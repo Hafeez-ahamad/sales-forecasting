# Import libraries
import pandas as pd
import numpy as np
import matplotlib.pyplot as plt
from statsmodels.tsa.arima.model import ARIMA
from sklearn.metrics import mean_squared_error
import joblib

# Load data
data = pd.read_csv('../data/sales_data.csv', parse_dates=['Date'], index_col='Date')

# EDA: Plot sales trends
plt.figure(figsize=(10, 6))
plt.plot(data['Sales'])
plt.title('Historical Sales Data')
plt.xlabel('Date')
plt.ylabel('Sales')
plt.savefig('../results/sales_trend.png')
plt.show()

# Train-test split
train = data.iloc[:-12]  # Use all but the last 12 months for training
test = data.iloc[-12:]   # Use the last 12 months for testing

# Fit ARIMA model
model = ARIMA(train['Sales'], order=(5, 1, 0))  # Example order (p, d, q)
model_fit = model.fit()

# Save model
joblib.dump(model_fit, '../models/arima_model.pkl')

# Forecast
forecast = model_fit.forecast(steps=12)

# Evaluate model
mse = mean_squared_error(test['Sales'], forecast)
print(f"Mean Squared Error: {mse}")

# Plot results
plt.figure(figsize=(10, 6))
plt.plot(train.index, train['Sales'], label='Training Data')
plt.plot(test.index, test['Sales'], label='Actual Sales')
plt.plot(test.index, forecast, label='Forecasted Sales')
plt.title('Sales Forecasting with ARIMA')
plt.xlabel('Date')
plt.ylabel('Sales')
plt.legend()
plt.savefig('../results/forecast_results.png')
plt.show()
